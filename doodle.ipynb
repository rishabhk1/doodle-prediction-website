{
  "nbformat": 4,
  "nbformat_minor": 0,
  "metadata": {
    "colab": {
      "name": "doodle.ipynb",
      "version": "0.3.2",
      "provenance": [],
      "collapsed_sections": []
    },
    "kernelspec": {
      "name": "python3",
      "display_name": "Python 3"
    },
    "accelerator": "GPU"
  },
  "cells": [
    {
      "cell_type": "code",
      "metadata": {
        "id": "4JSK7YCbpVDH",
        "colab_type": "code",
        "outputId": "15693818-c59a-4b3a-8735-981c598c68fc",
        "colab": {
          "base_uri": "https://localhost:8080/",
          "height": 2234
        }
      },
      "source": [
        "!wget https://storage.googleapis.com/quickdraw_dataset/full/numpy_bitmap/banana.npy\n",
        "!wget https://storage.googleapis.com/quickdraw_dataset/full/numpy_bitmap/lollipop.npy\n",
        "!wget https://storage.googleapis.com/quickdraw_dataset/full/numpy_bitmap/apple.npy\n",
        "!wget https://storage.googleapis.com/quickdraw_dataset/full/numpy_bitmap/headphones.npy\n",
        "!wget https://storage.googleapis.com/quickdraw_dataset/full/numpy_bitmap/bicycle.npy\n",
        "!wget https://storage.googleapis.com/quickdraw_dataset/full/numpy_bitmap/car.npy\n",
        "!wget https://storage.googleapis.com/quickdraw_dataset/full/numpy_bitmap/sandwich.npy\n",
        "!wget https://storage.googleapis.com/quickdraw_dataset/full/numpy_bitmap/chair.npy \n",
        "!wget https://storage.googleapis.com/quickdraw_dataset/full/numpy_bitmap/t-shirt.npy\n",
        "!wget https://storage.googleapis.com/quickdraw_dataset/full/numpy_bitmap/shoe.npy\n",
        "!wget https://storage.googleapis.com/quickdraw_dataset/full/numpy_bitmap/eyeglasses.npy\n",
        "!wget https://storage.googleapis.com/quickdraw_dataset/full/numpy_bitmap/diamond.npy  \n",
        "  #eye\n",
        "  #dia"
      ],
      "execution_count": 0,
      "outputs": [
        {
          "output_type": "stream",
          "text": [
            "--2019-03-03 17:13:04--  https://storage.googleapis.com/quickdraw_dataset/full/numpy_bitmap/banana.npy\n",
            "Resolving storage.googleapis.com (storage.googleapis.com)... 74.125.206.128, 2a00:1450:400c:c04::80\n",
            "Connecting to storage.googleapis.com (storage.googleapis.com)|74.125.206.128|:443... connected.\n",
            "HTTP request sent, awaiting response... 200 OK\n",
            "Length: 241421904 (230M) [application/octet-stream]\n",
            "Saving to: ‘banana.npy’\n",
            "\n",
            "banana.npy          100%[===================>] 230.24M   104MB/s    in 2.2s    \n",
            "\n",
            "2019-03-03 17:13:06 (104 MB/s) - ‘banana.npy’ saved [241421904/241421904]\n",
            "\n",
            "--2019-03-03 17:13:08--  https://storage.googleapis.com/quickdraw_dataset/full/numpy_bitmap/lollipop.npy\n",
            "Resolving storage.googleapis.com (storage.googleapis.com)... 74.125.206.128, 2a00:1450:400c:c04::80\n",
            "Connecting to storage.googleapis.com (storage.googleapis.com)|74.125.206.128|:443... connected.\n",
            "HTTP request sent, awaiting response... 200 OK\n",
            "Length: 101017696 (96M) [application/octet-stream]\n",
            "Saving to: ‘lollipop.npy’\n",
            "\n",
            "lollipop.npy        100%[===================>]  96.34M  88.6MB/s    in 1.1s    \n",
            "\n",
            "2019-03-03 17:13:09 (88.6 MB/s) - ‘lollipop.npy’ saved [101017696/101017696]\n",
            "\n",
            "--2019-03-03 17:13:11--  https://storage.googleapis.com/quickdraw_dataset/full/numpy_bitmap/apple.npy\n",
            "Resolving storage.googleapis.com (storage.googleapis.com)... 74.125.206.128, 2a00:1450:400c:c04::80\n",
            "Connecting to storage.googleapis.com (storage.googleapis.com)|74.125.206.128|:443... connected.\n",
            "HTTP request sent, awaiting response... 200 OK\n",
            "Length: 113462128 (108M) [application/octet-stream]\n",
            "Saving to: ‘apple.npy’\n",
            "\n",
            "apple.npy           100%[===================>] 108.21M   152MB/s    in 0.7s    \n",
            "\n",
            "2019-03-03 17:13:12 (152 MB/s) - ‘apple.npy’ saved [113462128/113462128]\n",
            "\n",
            "--2019-03-03 17:13:14--  https://storage.googleapis.com/quickdraw_dataset/full/numpy_bitmap/headphones.npy\n",
            "Resolving storage.googleapis.com (storage.googleapis.com)... 74.125.206.128, 2a00:1450:400c:c04::80\n",
            "Connecting to storage.googleapis.com (storage.googleapis.com)|74.125.206.128|:443... connected.\n",
            "HTTP request sent, awaiting response... 200 OK\n",
            "Length: 93222384 (89M) [application/octet-stream]\n",
            "Saving to: ‘headphones.npy’\n",
            "\n",
            "headphones.npy      100%[===================>]  88.90M  70.3MB/s    in 1.3s    \n",
            "\n",
            "2019-03-03 17:13:16 (70.3 MB/s) - ‘headphones.npy’ saved [93222384/93222384]\n",
            "\n",
            "--2019-03-03 17:13:17--  https://storage.googleapis.com/quickdraw_dataset/full/numpy_bitmap/bicycle.npy\n",
            "Resolving storage.googleapis.com (storage.googleapis.com)... 74.125.206.128, 2a00:1450:400c:c04::80\n",
            "Connecting to storage.googleapis.com (storage.googleapis.com)|74.125.206.128|:443... connected.\n",
            "HTTP request sent, awaiting response... 200 OK\n",
            "Length: 99197248 (95M) [application/octet-stream]\n",
            "Saving to: ‘bicycle.npy’\n",
            "\n",
            "bicycle.npy         100%[===================>]  94.60M  89.4MB/s    in 1.1s    \n",
            "\n",
            "2019-03-03 17:13:18 (89.4 MB/s) - ‘bicycle.npy’ saved [99197248/99197248]\n",
            "\n",
            "--2019-03-03 17:13:20--  https://storage.googleapis.com/quickdraw_dataset/full/numpy_bitmap/car.npy\n",
            "Resolving storage.googleapis.com (storage.googleapis.com)... 74.125.206.128, 2a00:1450:400c:c04::80\n",
            "Connecting to storage.googleapis.com (storage.googleapis.com)|74.125.206.128|:443... connected.\n",
            "HTTP request sent, awaiting response... 200 OK\n",
            "Length: 143287056 (137M) [application/octet-stream]\n",
            "Saving to: ‘car.npy’\n",
            "\n",
            "car.npy             100%[===================>] 136.65M  82.2MB/s    in 1.7s    \n",
            "\n",
            "2019-03-03 17:13:22 (82.2 MB/s) - ‘car.npy’ saved [143287056/143287056]\n",
            "\n",
            "--2019-03-03 17:13:24--  https://storage.googleapis.com/quickdraw_dataset/full/numpy_bitmap/sandwich.npy\n",
            "Resolving storage.googleapis.com (storage.googleapis.com)... 74.125.206.128, 2a00:1450:400c:c04::80\n",
            "Connecting to storage.googleapis.com (storage.googleapis.com)|74.125.206.128|:443... connected.\n",
            "HTTP request sent, awaiting response... 200 OK\n",
            "Length: 103277968 (98M) [application/octet-stream]\n",
            "Saving to: ‘sandwich.npy’\n",
            "\n",
            "sandwich.npy        100%[===================>]  98.49M   108MB/s    in 0.9s    \n",
            "\n",
            "2019-03-03 17:13:25 (108 MB/s) - ‘sandwich.npy’ saved [103277968/103277968]\n",
            "\n",
            "--2019-03-03 17:13:27--  https://storage.googleapis.com/quickdraw_dataset/full/numpy_bitmap/chair.npy\n",
            "Resolving storage.googleapis.com (storage.googleapis.com)... 74.125.206.128, 2a00:1450:400c:c04::80\n",
            "Connecting to storage.googleapis.com (storage.googleapis.com)|74.125.206.128|:443... connected.\n",
            "HTTP request sent, awaiting response... 200 OK\n",
            "Length: 174601584 (167M) [application/octet-stream]\n",
            "Saving to: ‘chair.npy’\n",
            "\n",
            "chair.npy           100%[===================>] 166.51M  83.2MB/s    in 2.0s    \n",
            "\n",
            "2019-03-03 17:13:29 (83.2 MB/s) - ‘chair.npy’ saved [174601584/174601584]\n",
            "\n",
            "--2019-03-03 17:13:31--  https://storage.googleapis.com/quickdraw_dataset/full/numpy_bitmap/t-shirt.npy\n",
            "Resolving storage.googleapis.com (storage.googleapis.com)... 74.125.206.128, 2a00:1450:400c:c04::80\n",
            "Connecting to storage.googleapis.com (storage.googleapis.com)|74.125.206.128|:443... connected.\n",
            "HTTP request sent, awaiting response... 200 OK\n",
            "Length: 98182752 (94M) [application/octet-stream]\n",
            "Saving to: ‘t-shirt.npy’\n",
            "\n",
            "t-shirt.npy         100%[===================>]  93.63M  75.1MB/s    in 1.2s    \n",
            "\n",
            "2019-03-03 17:13:32 (75.1 MB/s) - ‘t-shirt.npy’ saved [98182752/98182752]\n",
            "\n",
            "--2019-03-03 17:13:34--  https://storage.googleapis.com/quickdraw_dataset/full/numpy_bitmap/shoe.npy\n",
            "Resolving storage.googleapis.com (storage.googleapis.com)... 74.125.206.128, 2a00:1450:400c:c04::80\n",
            "Connecting to storage.googleapis.com (storage.googleapis.com)|74.125.206.128|:443... connected.\n",
            "HTTP request sent, awaiting response... 200 OK\n",
            "Length: 94261184 (90M) [application/octet-stream]\n",
            "Saving to: ‘shoe.npy’\n",
            "\n",
            "shoe.npy            100%[===================>]  89.89M  96.6MB/s    in 0.9s    \n",
            "\n",
            "2019-03-03 17:13:35 (96.6 MB/s) - ‘shoe.npy’ saved [94261184/94261184]\n",
            "\n",
            "--2019-03-03 17:13:37--  https://storage.googleapis.com/quickdraw_dataset/full/numpy_bitmap/eyeglasses.npy\n",
            "Resolving storage.googleapis.com (storage.googleapis.com)... 74.125.206.128, 2a00:1450:400c:c04::80\n",
            "Connecting to storage.googleapis.com (storage.googleapis.com)|74.125.206.128|:443... connected.\n",
            "HTTP request sent, awaiting response... 200 OK\n",
            "Length: 176997488 (169M) [application/octet-stream]\n",
            "Saving to: ‘eyeglasses.npy’\n",
            "\n",
            "eyeglasses.npy      100%[===================>] 168.80M   112MB/s    in 1.5s    \n",
            "\n",
            "2019-03-03 17:13:39 (112 MB/s) - ‘eyeglasses.npy’ saved [176997488/176997488]\n",
            "\n",
            "--2019-03-03 17:13:40--  https://storage.googleapis.com/quickdraw_dataset/full/numpy_bitmap/diamond.npy\n",
            "Resolving storage.googleapis.com (storage.googleapis.com)... 74.125.206.128, 2a00:1450:400c:c04::80\n",
            "Connecting to storage.googleapis.com (storage.googleapis.com)|74.125.206.128|:443... connected.\n",
            "HTTP request sent, awaiting response... 200 OK\n",
            "Length: 103164288 (98M) [application/octet-stream]\n",
            "Saving to: ‘diamond.npy’\n",
            "\n",
            "diamond.npy         100%[===================>]  98.38M  70.4MB/s    in 1.4s    \n",
            "\n",
            "2019-03-03 17:13:43 (70.4 MB/s) - ‘diamond.npy’ saved [103164288/103164288]\n",
            "\n"
          ],
          "name": "stdout"
        }
      ]
    },
    {
      "cell_type": "code",
      "metadata": {
        "id": "AlMDg0HjnKIb",
        "colab_type": "code",
        "colab": {}
      },
      "source": [
        ""
      ],
      "execution_count": 0,
      "outputs": []
    },
    {
      "cell_type": "code",
      "metadata": {
        "id": "c1CqdTOgxnIp",
        "colab_type": "code",
        "colab": {}
      },
      "source": [
        "import numpy as np\n",
        "banana=np.load('banana.npy')[:30000]\n",
        "apple=np.load('apple.npy')[:30000]\n",
        "house=np.load('bicycle.npy')[:30000]\n",
        "car=np.load('car.npy')[:50000]\n",
        "chair=np.load('chair.npy')[:30000]\n",
        "shoe=np.load('shoe.npy')[:30000]\n",
        "lollipop=np.load('lollipop.npy')[:30000]\n",
        "sandwich=np.load('sandwich.npy')[:50000]\n",
        "headphones=np.load('headphones.npy')[:30000]\n",
        "eyeglasses=np.load('eyeglasses.npy')[:50000]\n",
        "tshirt=np.load('t-shirt.npy')[:30000]\n",
        "diamond=np.load('diamond.npy')[:50000]\n",
        "\n",
        "\n",
        "\n",
        "banana = np.c_[banana, np.zeros(len(banana))]\n",
        "apple = np.c_[apple, np.ones(len(apple))]\n",
        "house = np.c_[house, 2*np.ones(len(house))]\n",
        "car = np.c_[car, 3*np.ones(len(car))]\n",
        "chair = np.c_[chair, 4*np.ones(len(chair))]\n",
        "shoe = np.c_[shoe, 5*np.ones(len(shoe))]\n",
        "lollipop = np.c_[lollipop,6*np.ones(len(lollipop))]\n",
        "sandwich = np.c_[sandwich,7*np.ones(len(sandwich))]\n",
        "headphones = np.c_[headphones,8*np.ones(len(headphones))]\n",
        "eyeglasses = np.c_[eyeglasses,9*np.ones(len(eyeglasses))]\n",
        "tshirt = np.c_[tshirt,10*np.ones(len(tshirt))]\n",
        "diamond = np.c_[diamond,11*np.ones(len(diamond))]\n",
        "\n"
      ],
      "execution_count": 0,
      "outputs": []
    },
    {
      "cell_type": "code",
      "metadata": {
        "id": "FnllefewDUs1",
        "colab_type": "code",
        "colab": {}
      },
      "source": [
        "from sklearn.model_selection import train_test_split as tts\n",
        "X = np.concatenate((banana[:30000,:-1], apple[:30000,:-1], house[:30000,:-1], car[:30000,:-1],chair[:30000,:-1],shoe[:30000,:-1],lollipop[:30000,:-1],sandwich[:30000,:-1],headphones[:30000,:-1],eyeglasses[:30000,:-1],tshirt[:30000,:-1], diamond[:30000,:-1]), axis=0) \n",
        "\n",
        "\n",
        "y = np.concatenate((banana[:30000,-1], apple[:30000,-1], house[:30000,-1], car[:30000,-1],chair[:30000,-1],shoe[:30000,-1],lollipop[:30000,-1],sandwich[:30000,-1],headphones[:30000,-1],eyeglasses[:30000,-1],tshirt[:30000,-1], diamond[:30000,-1]), axis=0)\n",
        "\n",
        "X_train, X_test, y_train, y_test = tts(X/255.,y,test_size=0.3,random_state=0)"
      ],
      "execution_count": 0,
      "outputs": []
    },
    {
      "cell_type": "code",
      "metadata": {
        "id": "DSYuF8EhXvK2",
        "colab_type": "code",
        "outputId": "bdefdfad-07de-4bf3-d2fe-3059ca5a7231",
        "colab": {
          "base_uri": "https://localhost:8080/",
          "height": 34
        }
      },
      "source": [
        "y.shape"
      ],
      "execution_count": 0,
      "outputs": [
        {
          "output_type": "execute_result",
          "data": {
            "text/plain": [
              "(360000,)"
            ]
          },
          "metadata": {
            "tags": []
          },
          "execution_count": 24
        }
      ]
    },
    {
      "cell_type": "code",
      "metadata": {
        "id": "FdUzXXqhpgPp",
        "colab_type": "code",
        "colab": {}
      },
      "source": [
        "from PIL import Image\n",
        "def normalize(data):\n",
        "    \"Takes a list or a list of lists and returns its normalized form\"\n",
        "\n",
        "    return np.interp(data, [0, 255], [0, 1])\n",
        "\n",
        "\n",
        "def denormalize(data):\n",
        "    \"Takes a list or a list of lists and returns its denormalized form\"\n",
        "\n",
        "    return np.interp(data, [-1, 1], [0, 255])\n",
        "\n",
        "\n",
        "def visualize(array):\n",
        "    \"Visulaze a 2D array as an Image\"\n",
        "    array = np.reshape(array, (28,28))\n",
        "    img = Image.fromarray(array)\n",
        "    return img\n"
      ],
      "execution_count": 0,
      "outputs": []
    },
    {
      "cell_type": "code",
      "metadata": {
        "id": "TlpC4pV113MT",
        "colab_type": "code",
        "colab": {}
      },
      "source": [
        "from sklearn.model_selection import train_test_split as tts\n",
        "from keras.models import Sequential\n",
        "from keras.layers import Dense, Dropout, Conv2D, MaxPooling2D, Flatten,ZeroPadding2D\n",
        "from keras.utils import np_utils\n",
        "from random import randint\n",
        "from keras.applications.resnet50 import ResNet50\n",
        "from sklearn.metrics import confusion_matrix"
      ],
      "execution_count": 0,
      "outputs": []
    },
    {
      "cell_type": "code",
      "metadata": {
        "id": "Ho5S0AgJ18JD",
        "colab_type": "code",
        "colab": {}
      },
      "source": [
        "#x_train, x_test, y_train, y_test = tts(x, label, test_size=0.2)\n",
        "\n",
        "# one hot encoding\n",
        "X_train_cnn = X_train.reshape(X_train.shape[0],28, 28,1)\n",
        "X_test_cnn = X_test.reshape(X_test.shape[0],28,28,1)\n",
        "Y_train = np_utils.to_categorical(y_train)\n",
        "Y_test = np_utils.to_categorical(y_test)"
      ],
      "execution_count": 0,
      "outputs": []
    },
    {
      "cell_type": "code",
      "metadata": {
        "id": "P4xbPsLA2diB",
        "colab_type": "code",
        "outputId": "c930a594-b1d2-4dbf-8e83-608a78622915",
        "colab": {
          "base_uri": "https://localhost:8080/",
          "height": 138
        }
      },
      "source": [
        "model = Sequential()\n",
        "model.add(Conv2D(30, (5, 5), input_shape=(28, 28,1), activation='relu'))\n",
        "model.add(MaxPooling2D(pool_size=(2, 2)))\n",
        "model.add(Conv2D(15, (3, 3), activation='relu'))\n",
        "model.add(MaxPooling2D(pool_size=(2, 2)))\n",
        "model.add(Dropout(0.2))\n",
        "model.add(Flatten())\n",
        "model.add(Dense(128, activation='relu'))\n",
        "model.add(Dense(50, activation='relu'))\n",
        "model.add(Dense(12, activation='softmax'))"
      ],
      "execution_count": 0,
      "outputs": [
        {
          "output_type": "stream",
          "text": [
            "WARNING:tensorflow:From /usr/local/lib/python3.6/dist-packages/tensorflow/python/framework/op_def_library.py:263: colocate_with (from tensorflow.python.framework.ops) is deprecated and will be removed in a future version.\n",
            "Instructions for updating:\n",
            "Colocations handled automatically by placer.\n",
            "WARNING:tensorflow:From /usr/local/lib/python3.6/dist-packages/keras/backend/tensorflow_backend.py:3445: calling dropout (from tensorflow.python.ops.nn_ops) with keep_prob is deprecated and will be removed in a future version.\n",
            "Instructions for updating:\n",
            "Please use `rate` instead of `keep_prob`. Rate should be set to `rate = 1 - keep_prob`.\n"
          ],
          "name": "stdout"
        }
      ]
    },
    {
      "cell_type": "code",
      "metadata": {
        "id": "spwVwFxRsg43",
        "colab_type": "code",
        "outputId": "a250ca5f-2149-4556-faec-eb7f8e325a0a",
        "colab": {
          "base_uri": "https://localhost:8080/",
          "height": 625
        }
      },
      "source": [
        "model.compile(loss='categorical_crossentropy',\n",
        "              optimizer='adam',\n",
        "              metrics=['accuracy'])\n",
        "model.fit(X_train_cnn, Y_train, validation_data=(X_test_cnn, Y_test), epochs=15, batch_size=32)\n",
        "# Final evaluation of the model\n",
        "\n",
        "scores = model.evaluate(X_test_cnn, Y_test, verbose=0)\n",
        "print(scores)"
      ],
      "execution_count": 0,
      "outputs": [
        {
          "output_type": "stream",
          "text": [
            "WARNING:tensorflow:From /usr/local/lib/python3.6/dist-packages/tensorflow/python/ops/math_ops.py:3066: to_int32 (from tensorflow.python.ops.math_ops) is deprecated and will be removed in a future version.\n",
            "Instructions for updating:\n",
            "Use tf.cast instead.\n",
            "Train on 252000 samples, validate on 108000 samples\n",
            "Epoch 1/15\n",
            "252000/252000 [==============================] - 67s 264us/step - loss: 0.3079 - acc: 0.9126 - val_loss: 0.1967 - val_acc: 0.9443\n",
            "Epoch 2/15\n",
            "252000/252000 [==============================] - 61s 241us/step - loss: 0.2016 - acc: 0.9417 - val_loss: 0.1691 - val_acc: 0.9513\n",
            "Epoch 3/15\n",
            "252000/252000 [==============================] - 60s 240us/step - loss: 0.1774 - acc: 0.9487 - val_loss: 0.1596 - val_acc: 0.9540\n",
            "Epoch 4/15\n",
            "252000/252000 [==============================] - 61s 243us/step - loss: 0.1644 - acc: 0.9523 - val_loss: 0.1506 - val_acc: 0.9566\n",
            "Epoch 5/15\n",
            "252000/252000 [==============================] - 61s 243us/step - loss: 0.1557 - acc: 0.9546 - val_loss: 0.1530 - val_acc: 0.9559\n",
            "Epoch 6/15\n",
            "252000/252000 [==============================] - 61s 243us/step - loss: 0.1481 - acc: 0.9567 - val_loss: 0.1501 - val_acc: 0.9567\n",
            "Epoch 7/15\n",
            "252000/252000 [==============================] - 62s 244us/step - loss: 0.1437 - acc: 0.9576 - val_loss: 0.1439 - val_acc: 0.9588\n",
            "Epoch 8/15\n",
            "252000/252000 [==============================] - 62s 244us/step - loss: 0.1377 - acc: 0.9595 - val_loss: 0.1485 - val_acc: 0.9584\n",
            "Epoch 9/15\n",
            "252000/252000 [==============================] - 61s 241us/step - loss: 0.1344 - acc: 0.9604 - val_loss: 0.1485 - val_acc: 0.9583\n",
            "Epoch 10/15\n",
            "252000/252000 [==============================] - 61s 242us/step - loss: 0.1325 - acc: 0.9608 - val_loss: 0.1445 - val_acc: 0.9592\n",
            "Epoch 11/15\n",
            "252000/252000 [==============================] - 61s 241us/step - loss: 0.1301 - acc: 0.9614 - val_loss: 0.1479 - val_acc: 0.9584\n",
            "Epoch 12/15\n",
            "252000/252000 [==============================] - 60s 238us/step - loss: 0.1274 - acc: 0.9621 - val_loss: 0.1486 - val_acc: 0.9575\n",
            "Epoch 13/15\n",
            "252000/252000 [==============================] - 60s 240us/step - loss: 0.1254 - acc: 0.9623 - val_loss: 0.1458 - val_acc: 0.9596\n",
            "Epoch 14/15\n",
            "252000/252000 [==============================] - 61s 243us/step - loss: 0.1236 - acc: 0.9630 - val_loss: 0.1473 - val_acc: 0.9589\n",
            "Epoch 15/15\n",
            "252000/252000 [==============================] - 61s 244us/step - loss: 0.1230 - acc: 0.9631 - val_loss: 0.1445 - val_acc: 0.9598\n",
            "[0.14449910091410426, 0.9598055555555556]\n"
          ],
          "name": "stdout"
        }
      ]
    },
    {
      "cell_type": "code",
      "metadata": {
        "id": "KS53bTF-SFxT",
        "colab_type": "code",
        "outputId": "d9d1845d-1fe5-4ecf-c2d0-710f8073bd87",
        "colab": {
          "base_uri": "https://localhost:8080/",
          "height": 34
        }
      },
      "source": [
        "zq=model.predict_classes(X_test_cnn)\n",
        "zq[0]"
      ],
      "execution_count": 0,
      "outputs": [
        {
          "output_type": "execute_result",
          "data": {
            "text/plain": [
              "4"
            ]
          },
          "metadata": {
            "tags": []
          },
          "execution_count": 10
        }
      ]
    },
    {
      "cell_type": "code",
      "metadata": {
        "id": "zte4-Y0WsfKz",
        "colab_type": "code",
        "colab": {}
      },
      "source": [
        "model.save('doodle.h5')"
      ],
      "execution_count": 0,
      "outputs": []
    },
    {
      "cell_type": "code",
      "metadata": {
        "id": "hwgydVexsoyv",
        "colab_type": "code",
        "outputId": "c4c4e55a-3779-4dde-812c-1ed564fc6314",
        "colab": {
          "base_uri": "https://localhost:8080/",
          "height": 205
        }
      },
      "source": [
        "from keras.models import  load_model\n",
        "new_model=load_model('doodle.h5')"
      ],
      "execution_count": 0,
      "outputs": [
        {
          "output_type": "stream",
          "text": [
            "Using TensorFlow backend.\n"
          ],
          "name": "stderr"
        },
        {
          "output_type": "stream",
          "text": [
            "WARNING:tensorflow:From /usr/local/lib/python3.6/dist-packages/tensorflow/python/framework/op_def_library.py:263: colocate_with (from tensorflow.python.framework.ops) is deprecated and will be removed in a future version.\n",
            "Instructions for updating:\n",
            "Colocations handled automatically by placer.\n",
            "WARNING:tensorflow:From /usr/local/lib/python3.6/dist-packages/keras/backend/tensorflow_backend.py:3445: calling dropout (from tensorflow.python.ops.nn_ops) with keep_prob is deprecated and will be removed in a future version.\n",
            "Instructions for updating:\n",
            "Please use `rate` instead of `keep_prob`. Rate should be set to `rate = 1 - keep_prob`.\n",
            "WARNING:tensorflow:From /usr/local/lib/python3.6/dist-packages/tensorflow/python/ops/math_ops.py:3066: to_int32 (from tensorflow.python.ops.math_ops) is deprecated and will be removed in a future version.\n",
            "Instructions for updating:\n",
            "Use tf.cast instead.\n"
          ],
          "name": "stdout"
        }
      ]
    },
    {
      "cell_type": "code",
      "metadata": {
        "id": "zmikYBMltKXx",
        "colab_type": "code",
        "outputId": "196a394c-4bba-437e-e81b-780382ef7cab",
        "colab": {
          "base_uri": "https://localhost:8080/",
          "height": 437
        }
      },
      "source": [
        "new_model.summary()"
      ],
      "execution_count": 0,
      "outputs": [
        {
          "output_type": "stream",
          "text": [
            "_________________________________________________________________\n",
            "Layer (type)                 Output Shape              Param #   \n",
            "=================================================================\n",
            "conv2d_1 (Conv2D)            (None, 24, 24, 30)        780       \n",
            "_________________________________________________________________\n",
            "max_pooling2d_1 (MaxPooling2 (None, 12, 12, 30)        0         \n",
            "_________________________________________________________________\n",
            "conv2d_2 (Conv2D)            (None, 10, 10, 15)        4065      \n",
            "_________________________________________________________________\n",
            "max_pooling2d_2 (MaxPooling2 (None, 5, 5, 15)          0         \n",
            "_________________________________________________________________\n",
            "dropout_1 (Dropout)          (None, 5, 5, 15)          0         \n",
            "_________________________________________________________________\n",
            "flatten_1 (Flatten)          (None, 375)               0         \n",
            "_________________________________________________________________\n",
            "dense_1 (Dense)              (None, 128)               48128     \n",
            "_________________________________________________________________\n",
            "dense_2 (Dense)              (None, 50)                6450      \n",
            "_________________________________________________________________\n",
            "dense_3 (Dense)              (None, 12)                612       \n",
            "=================================================================\n",
            "Total params: 60,035\n",
            "Trainable params: 60,035\n",
            "Non-trainable params: 0\n",
            "_________________________________________________________________\n"
          ],
          "name": "stdout"
        }
      ]
    },
    {
      "cell_type": "code",
      "metadata": {
        "id": "sWDdMLBfSiDp",
        "colab_type": "code",
        "outputId": "09895de2-874e-4d66-d5c1-8d7ecd060a30",
        "colab": {
          "base_uri": "https://localhost:8080/",
          "height": 420
        }
      },
      "source": [
        "cm=confusion_matrix(y_test,zq)\n",
        "cm"
      ],
      "execution_count": 0,
      "outputs": [
        {
          "output_type": "execute_result",
          "data": {
            "text/plain": [
              "array([[8682,   13,   20,   11,   30,  105,   10,   86,   18,   43,   12,\n",
              "          62],\n",
              "       [  20, 8707,   33,    9,   10,   37,   17,   63,   13,   42,    5,\n",
              "          38],\n",
              "       [   7,   13, 8537,  153,   22,   19,    4,   26,   44,  134,    1,\n",
              "          24],\n",
              "       [  13,    1,   28, 8562,   29,   67,    6,  116,   12,   84,    6,\n",
              "          20],\n",
              "       [  35,   10,   13,   41, 8666,   74,   21,   73,    8,   37,   21,\n",
              "          30],\n",
              "       [  68,   41,   24,   19,   37, 8710,   10,  104,    7,   44,    9,\n",
              "          21],\n",
              "       [  30,   10,    2,   14,   58,   15, 8721,   52,   17,   37,   26,\n",
              "          21],\n",
              "       [  33,   15,   17,   29,   40,   89,   18, 8677,   14,   48,   45,\n",
              "         110],\n",
              "       [  35,   11,   60,   45,   50,   20,   34,   53, 8630,   48,   13,\n",
              "          31],\n",
              "       [  30,   24,   84,   45,   28,   53,   38,  103,   12, 8350,   28,\n",
              "          37],\n",
              "       [   9,   10,    7,    8,   32,   14,   13,   47,    7,   19, 8678,\n",
              "          15],\n",
              "       [  36,   21,    7,   10,   28,   20,   14,   89,    6,   26,    8,\n",
              "        8739]])"
            ]
          },
          "metadata": {
            "tags": []
          },
          "execution_count": 11
        }
      ]
    },
    {
      "cell_type": "code",
      "metadata": {
        "id": "Yzu7TeYF-G0v",
        "colab_type": "code",
        "colab": {}
      },
      "source": [
        "from scipy.misc import imsave, imread, imresize"
      ],
      "execution_count": 0,
      "outputs": []
    },
    {
      "cell_type": "code",
      "metadata": {
        "id": "m84PuOpMPmKW",
        "colab_type": "code",
        "colab": {}
      },
      "source": [
        "import numpy as np\n",
        "d={1:'banana',2:'apple',3:'bicycle',4:'car',5:'chair',6:'shoe',7:'lollipop',8:'sandwich',9:'headphones',10:'eyeglasses',11:'tshirt',12:'diamond'}\n",
        "def guess(a):\n",
        "  x=[]\n",
        "  val=[]\n",
        "  x = imread(a, mode='L')\n",
        "  # resize input image to 28x28\n",
        "  x = imresize(x, (28, 28))\n",
        "  x = np.invert(x)\n",
        "  for i in range(len(x)):\n",
        "                for j in range(len(x)):\n",
        "                    if x[i][j] >100:\n",
        "                        x[i][j] = min(255, x[i][j] + x[i][j] * 1)\n",
        "  x=x[:,:,np.newaxis]\n",
        "  x=normalize(x)\n",
        "  val = new_model.predict(np.array([x]))\n",
        "  print(val)\n",
        "  print(d[np.argmax(val)+1])\n",
        "  "
      ],
      "execution_count": 0,
      "outputs": []
    },
    {
      "cell_type": "code",
      "metadata": {
        "id": "JY7iiD4FP_KP",
        "colab_type": "code",
        "outputId": "9d559167-927e-42b3-8bd1-2608ae422f76",
        "colab": {
          "base_uri": "https://localhost:8080/",
          "height": 222
        }
      },
      "source": [
        "guess('b.png')\n",
        "\n"
      ],
      "execution_count": 0,
      "outputs": [
        {
          "output_type": "stream",
          "text": [
            "[[0.08469912 0.07315356 0.02538769 0.05731498 0.11775611 0.08894297\n",
            "  0.07092982 0.10622228 0.03128055 0.08750866 0.08768491 0.16911933]]\n",
            "diamond\n"
          ],
          "name": "stdout"
        },
        {
          "output_type": "stream",
          "text": [
            "/usr/local/lib/python3.6/dist-packages/ipykernel_launcher.py:6: DeprecationWarning: `imread` is deprecated!\n",
            "`imread` is deprecated in SciPy 1.0.0, and will be removed in 1.2.0.\n",
            "Use ``imageio.imread`` instead.\n",
            "  \n",
            "/usr/local/lib/python3.6/dist-packages/ipykernel_launcher.py:8: DeprecationWarning: `imresize` is deprecated!\n",
            "`imresize` is deprecated in SciPy 1.0.0, and will be removed in 1.2.0.\n",
            "Use ``skimage.transform.resize`` instead.\n",
            "  \n"
          ],
          "name": "stderr"
        }
      ]
    },
    {
      "cell_type": "code",
      "metadata": {
        "id": "gjk0zaF1TgyR",
        "colab_type": "code",
        "colab": {}
      },
      "source": [
        "X_fine=np.concatenate((car[30000:50000,:-1],sandwich[30000:50000,:-1],eyeglasses[30000:50000,:-1],diamond[30000:50000,:-1]),axis=0)"
      ],
      "execution_count": 0,
      "outputs": []
    },
    {
      "cell_type": "code",
      "metadata": {
        "id": "tDh9-iv5XHhL",
        "colab_type": "code",
        "outputId": "b8cdf439-8bbe-494b-ef5f-333a338cf140",
        "colab": {
          "base_uri": "https://localhost:8080/",
          "height": 34
        }
      },
      "source": [
        "X_fine.shape"
      ],
      "execution_count": 0,
      "outputs": [
        {
          "output_type": "execute_result",
          "data": {
            "text/plain": [
              "(80000, 784)"
            ]
          },
          "metadata": {
            "tags": []
          },
          "execution_count": 34
        }
      ]
    },
    {
      "cell_type": "code",
      "metadata": {
        "id": "XKiEKmP6XNIX",
        "colab_type": "code",
        "colab": {}
      },
      "source": [
        "Y_fine=np.concatenate((3*np.ones(20000),7*np.ones(20000),9*np.ones(20000),11*np.ones(20000)),axis=0)"
      ],
      "execution_count": 0,
      "outputs": []
    },
    {
      "cell_type": "code",
      "metadata": {
        "id": "ss8xjLqqYbr6",
        "colab_type": "code",
        "outputId": "38d95feb-6c22-41c5-8821-bf23ccfbe27e",
        "colab": {
          "base_uri": "https://localhost:8080/",
          "height": 34
        }
      },
      "source": [
        "Y_fine.shape"
      ],
      "execution_count": 0,
      "outputs": [
        {
          "output_type": "execute_result",
          "data": {
            "text/plain": [
              "(80000,)"
            ]
          },
          "metadata": {
            "tags": []
          },
          "execution_count": 36
        }
      ]
    },
    {
      "cell_type": "code",
      "metadata": {
        "id": "nkJHst7aYtQ3",
        "colab_type": "code",
        "colab": {}
      },
      "source": [
        "X_train, X_test, y_train, y_test = tts(X_fine/255.,Y_fine,test_size=0.3,random_state=0)\n",
        "X_train_cnn = X_train.reshape(X_train.shape[0],28, 28,1)\n",
        "X_test_cnn = X_test.reshape(X_test.shape[0],28,28,1)\n",
        "Y_train = np_utils.to_categorical(y_train,12)\n",
        "Y_test = np_utils.to_categorical(y_test,12)"
      ],
      "execution_count": 0,
      "outputs": []
    },
    {
      "cell_type": "code",
      "metadata": {
        "id": "6UQldUWzY9iS",
        "colab_type": "code",
        "outputId": "b32240d1-c769-4fdf-ec4f-223b624f70c0",
        "colab": {
          "base_uri": "https://localhost:8080/",
          "height": 151
        }
      },
      "source": [
        "new_model.fit(X_train_cnn, Y_train, validation_data=(X_test_cnn, Y_test), epochs=3, batch_size=32)"
      ],
      "execution_count": 0,
      "outputs": [
        {
          "output_type": "stream",
          "text": [
            "Train on 56000 samples, validate on 24000 samples\n",
            "Epoch 1/3\n",
            "56000/56000 [==============================] - 14s 258us/step - loss: 0.1568 - acc: 0.9355 - val_loss: 0.2082 - val_acc: 0.9195\n",
            "Epoch 2/3\n",
            "56000/56000 [==============================] - 14s 254us/step - loss: 0.1518 - acc: 0.9375 - val_loss: 0.2036 - val_acc: 0.9204\n",
            "Epoch 3/3\n",
            "56000/56000 [==============================] - 14s 253us/step - loss: 0.1485 - acc: 0.9381 - val_loss: 0.2069 - val_acc: 0.9203\n"
          ],
          "name": "stdout"
        },
        {
          "output_type": "execute_result",
          "data": {
            "text/plain": [
              "<keras.callbacks.History at 0x7fc20b77da58>"
            ]
          },
          "metadata": {
            "tags": []
          },
          "execution_count": 18
        }
      ]
    },
    {
      "cell_type": "code",
      "metadata": {
        "id": "yXjVdB1-bkH0",
        "colab_type": "code",
        "outputId": "6de19dd4-4278-4f06-f678-27d5feca4d3b",
        "colab": {
          "base_uri": "https://localhost:8080/",
          "height": 34
        }
      },
      "source": [
        "scores = model.evaluate(X_test_cnn, Y_test, verbose=0)\n",
        "print(scores)"
      ],
      "execution_count": 0,
      "outputs": [
        {
          "output_type": "stream",
          "text": [
            "[4.761113915054886, 0.3361296296296296]\n"
          ],
          "name": "stdout"
        }
      ]
    },
    {
      "cell_type": "code",
      "metadata": {
        "id": "XpezvjSbcOnn",
        "colab_type": "code",
        "colab": {}
      },
      "source": [
        "new_model.save('finetune1.h5')"
      ],
      "execution_count": 0,
      "outputs": []
    },
    {
      "cell_type": "code",
      "metadata": {
        "id": "bYxAZ-cuudi9",
        "colab_type": "code",
        "colab": {}
      },
      "source": [
        "s=load_model('finetune1.h5')"
      ],
      "execution_count": 0,
      "outputs": []
    },
    {
      "cell_type": "code",
      "metadata": {
        "id": "UNLfMlnhuyKo",
        "colab_type": "code",
        "outputId": "09030407-221e-4a9c-904d-4a98658b5067",
        "colab": {
          "base_uri": "https://localhost:8080/",
          "height": 34
        }
      },
      "source": [
        "scores=s.evaluate(X_test_cnn, Y_test, verbose=0)\n",
        "scores"
      ],
      "execution_count": 0,
      "outputs": [
        {
          "output_type": "execute_result",
          "data": {
            "text/plain": [
              "[9.621518153014007, 0.3061111111111111]"
            ]
          },
          "metadata": {
            "tags": []
          },
          "execution_count": 25
        }
      ]
    },
    {
      "cell_type": "code",
      "metadata": {
        "id": "WX7VFLGvu4nc",
        "colab_type": "code",
        "colab": {}
      },
      "source": [
        "z=s.predict_classes(X_test_cnn)"
      ],
      "execution_count": 0,
      "outputs": []
    },
    {
      "cell_type": "code",
      "metadata": {
        "id": "5Uvq61SQvveH",
        "colab_type": "code",
        "outputId": "fee90544-9e96-4e66-9526-eeab2214cbab",
        "colab": {
          "base_uri": "https://localhost:8080/",
          "height": 84
        }
      },
      "source": [
        "cm=confusion_matrix(y_test,z)\n",
        "cm"
      ],
      "execution_count": 0,
      "outputs": [
        {
          "output_type": "execute_result",
          "data": {
            "text/plain": [
              "array([[5771,   57,   21,   32],\n",
              "       [  59, 5632,  101,   72],\n",
              "       [  29,   75, 5072, 1001],\n",
              "       [  47,   66,  352, 5613]])"
            ]
          },
          "metadata": {
            "tags": []
          },
          "execution_count": 33
        }
      ]
    },
    {
      "cell_type": "code",
      "metadata": {
        "id": "NoScaHosv_VM",
        "colab_type": "code",
        "colab": {}
      },
      "source": [
        ""
      ],
      "execution_count": 0,
      "outputs": []
    },
    {
      "cell_type": "code",
      "metadata": {
        "id": "VysBdlT4wJDU",
        "colab_type": "code",
        "outputId": "9c88eabd-5194-49d2-b27b-fa02f2228239",
        "colab": {
          "base_uri": "https://localhost:8080/",
          "height": 34
        }
      },
      "source": [
        "z.shape"
      ],
      "execution_count": 0,
      "outputs": [
        {
          "output_type": "execute_result",
          "data": {
            "text/plain": [
              "(24000, 12)"
            ]
          },
          "metadata": {
            "tags": []
          },
          "execution_count": 31
        }
      ]
    },
    {
      "cell_type": "code",
      "metadata": {
        "id": "BF83ignMwKco",
        "colab_type": "code",
        "colab": {}
      },
      "source": [
        ""
      ],
      "execution_count": 0,
      "outputs": []
    }
  ]
}